{
 "cells": [
  {
   "cell_type": "code",
   "execution_count": 3,
   "metadata": {},
   "outputs": [],
   "source": [
    "from pyspark.sql import SparkSession\n",
    "import pyspark.sql.functions as F\n",
    "from pyspark.sql import Window\n",
    "import matplotlib.pyplot as plt\n",
    "import seaborn as sns\n",
    "\n",
    "spark = SparkSession.builder \\\n",
    "    .appName(\"Website Metrics\") \\\n",
    "    .master('local') \\\n",
    "    .getOrCreate()\n",
    "\n",
    "df = spark.read.parquet('/Users/mat/web_crawling_project/airflow/dags/data/gold_urls_categorized')\n",
    "# Sample data for illustration\n",
    "#data = [\n",
    "#    ('site1.com', 'USA', 'News', False),\n",
    "#    ('site2.com', 'UK', None, True),\n",
    "#    ('site3.com', 'USA', 'News', False),\n",
    "#    ('site4.com', 'Italy', 'Sports', True),\n",
    "#    ('site5.com', 'Japan', 'News', False)\n",
    "#]\n",
    "#columns = ['url', 'country', 'category', 'is_ad']\n",
    "#df = spark.createDataFrame(data, columns)"
   ]
  },
  {
   "cell_type": "markdown",
   "metadata": {},
   "source": [
    "# 1. Distribution of Domains by Country"
   ]
  },
  {
   "cell_type": "code",
   "execution_count": null,
   "metadata": {},
   "outputs": [],
   "source": [
    "# Calculate counts per country\n",
    "country_distribution = df.groupBy(\"country\").count().orderBy(F.desc(\"count\"))\n",
    "country_distribution.show()\n",
    "\n",
    "# Plotting\n",
    "country_distribution_pd = country_distribution.limit(10).toPandas()\n",
    "plt.figure(figsize=(10, 6))\n",
    "sns.barplot(x=\"country\", y=\"count\", data=country_distribution_pd)\n",
    "plt.title(\"Distribution of Domains by Country\")\n",
    "plt.xlabel(\"Country\")\n",
    "plt.ylabel(\"Count of Domains\")\n",
    "plt.show()\n"
   ]
  },
  {
   "cell_type": "markdown",
   "metadata": {},
   "source": [
    "# 2. Distribution of Categories"
   ]
  },
  {
   "cell_type": "code",
   "execution_count": null,
   "metadata": {},
   "outputs": [],
   "source": [
    "# Calculate counts per category\n",
    "category_distribution = df.groupBy(\"category\").count().orderBy(F.desc(\"count\"))\n",
    "category_distribution.show()\n",
    "\n",
    "# Plotting\n",
    "category_distribution_pd = category_distribution.toPandas()\n",
    "plt.figure(figsize=(12, 6))\n",
    "sns.barplot(x=\"category\", y=\"count\", data=category_distribution_pd)\n",
    "plt.title(\"Distribution of Categories\")\n",
    "plt.xlabel(\"Category\")\n",
    "plt.ylabel(\"Count of Domains\")\n",
    "plt.xticks(rotation=45)\n",
    "plt.show()\n"
   ]
  },
  {
   "cell_type": "markdown",
   "metadata": {},
   "source": [
    "# 3. Top Categories by Country"
   ]
  },
  {
   "cell_type": "code",
   "execution_count": null,
   "metadata": {},
   "outputs": [],
   "source": [
    "# Calculate top categories by country\n",
    "top_categories_by_country = df.groupBy(\"country\", \"category\").count()\n",
    "top_categories_by_country = top_categories_by_country.withColumn(\"rank\", F.row_number().over(\n",
    "    Window.partitionBy(\"country\").orderBy(F.desc(\"count\")))).filter(F.col(\"rank\") <= 1)\n",
    "top_categories_by_country.show()\n",
    "\n",
    "# Plotting\n",
    "top_categories_by_country_pd = top_categories_by_country.orderBy(F.desc(\"count\")).limit(10).toPandas()\n",
    "plt.figure(figsize=(12, 8))\n",
    "sns.barplot(x=\"country\", y=\"count\", hue=\"category\", data=top_categories_by_country_pd)\n",
    "plt.title(\"Top Categories by Country\")\n",
    "plt.xlabel(\"Country\")\n",
    "plt.ylabel(\"Count of Domains\")\n",
    "plt.show()"
   ]
  },
  {
   "cell_type": "markdown",
   "metadata": {},
   "source": [
    "# 4. Distribution of Ad-based Domains by Country"
   ]
  },
  {
   "cell_type": "code",
   "execution_count": null,
   "metadata": {},
   "outputs": [],
   "source": [
    "# Filter for ad-based domains and calculate counts per country\n",
    "ad_based_by_country = df.filter(F.col(\"is_ad\") == True).groupBy(\"country\").count().orderBy(F.desc(\"count\"))\n",
    "ad_based_by_country.show()\n",
    "\n",
    "# Convert to Pandas for plotting\n",
    "ad_based_by_country_pd = ad_based_by_country.limit(10).toPandas()\n",
    "\n",
    "# Plotting\n",
    "plt.figure(figsize=(8, 8))\n",
    "plt.pie(ad_based_by_country_pd['count'], labels=ad_based_by_country_pd['country'], autopct='%1.1f%%')\n",
    "plt.title(\"Distribution of Ad-based Domains by Country\")\n",
    "plt.show()\n"
   ]
  },
  {
   "cell_type": "markdown",
   "metadata": {},
   "source": [
    "# 5. Percentage of Ad-Based Domains Over Total Domains for Each Country"
   ]
  },
  {
   "cell_type": "code",
   "execution_count": null,
   "metadata": {},
   "outputs": [],
   "source": [
    "# Calculate total domains per country\n",
    "total_domains_per_country = df.groupBy(\"country\").count().withColumnRenamed(\"count\", \"total_count\")\n",
    "\n",
    "# Calculate ad-based domains per country\n",
    "ad_domains_per_country = df.filter(F.col(\"is_ad\") == True).groupBy(\"country\").count().withColumnRenamed(\"count\", \"ad_count\")\n",
    "\n",
    "# Join the two DataFrames on 'country' to calculate the percentage\n",
    "ad_percentage_per_country = total_domains_per_country.join(ad_domains_per_country, on=\"country\", how=\"left\")\n",
    "ad_percentage_per_country = ad_percentage_per_country.withColumn(\n",
    "    \"ad_percentage\", (F.col(\"ad_count\") / F.col(\"total_count\")) * 100\n",
    ").fillna(0)  # Fill NA values with 0 where there are no ad-based domains\n",
    "\n",
    "ad_percentage_per_country.show()\n",
    "\n",
    "# Convert to Pandas for plotting\n",
    "ad_percentage_per_country_pd = ad_percentage_per_country.select(\"country\", \"ad_percentage\").orderBy(F.desc(\"ad_percentage\")).limit(10).toPandas()\n",
    "\n",
    "# Plotting\n",
    "plt.figure(figsize=(10, 6))\n",
    "sns.barplot(x=\"country\", y=\"ad_percentage\", data=ad_percentage_per_country_pd)\n",
    "plt.title(\"Percentage of Ad-Based Domains Over Total Domains for Each Country\")\n",
    "plt.xlabel(\"Country\")\n",
    "plt.ylabel(\"Percentage of Ad-Based Domains (%)\")\n",
    "plt.xticks(rotation=45)\n",
    "plt.show()\n"
   ]
  },
  {
   "cell_type": "code",
   "execution_count": null,
   "metadata": {},
   "outputs": [],
   "source": []
  }
 ],
 "metadata": {
  "kernelspec": {
   "display_name": ".venv",
   "language": "python",
   "name": "python3"
  },
  "language_info": {
   "codemirror_mode": {
    "name": "ipython",
    "version": 3
   },
   "file_extension": ".py",
   "mimetype": "text/x-python",
   "name": "python",
   "nbconvert_exporter": "python",
   "pygments_lexer": "ipython3",
   "version": "3.12.6"
  }
 },
 "nbformat": 4,
 "nbformat_minor": 2
}
